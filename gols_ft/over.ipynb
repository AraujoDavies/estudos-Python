{
 "cells": [
  {
   "cell_type": "markdown",
   "metadata": {},
   "source": [
    "Primeiro passo importar todas as Libs que vamos utilizar\n"
   ]
  },
  {
   "cell_type": "code",
   "execution_count": 2,
   "metadata": {},
   "outputs": [],
   "source": [
    "# Importa as opções do Firefox\n",
    "from selenium.webdriver.firefox.options import Options\n",
    "from selenium.webdriver.common.by import By\n",
    "from selenium.webdriver import Firefox\n",
    "from time import sleep\n",
    "import pandas as pd\n",
    "from urllib import request\n",
    "from bs4 import BeautifulSoup\n",
    "from selenium.webdriver.support.ui import WebDriverWait\n",
    "from selenium.webdriver import FirefoxProfile"
   ]
  },
  {
   "cell_type": "markdown",
   "metadata": {},
   "source": [
    "Pegando o HTML da página"
   ]
  },
  {
   "cell_type": "code",
   "execution_count": 3,
   "metadata": {},
   "outputs": [],
   "source": [
    "f = Firefox()\n",
    "\n",
    "# url da página inicial da academia das apostas\n",
    "academia = \"https://www.academiadasapostasbrasil.com/\"\n",
    "\n",
    "# abrindo o Navegador e Request\n",
    "f.get(academia)\n",
    "\n",
    "# tabela de jogos\n",
    "table_games = f.find_element(By.XPATH, '//div[@id=\"fh_main_tab\"]//tbody').get_attribute('outerHTML')"
   ]
  },
  {
   "cell_type": "markdown",
   "metadata": {},
   "source": [
    "Pegando URLs"
   ]
  },
  {
   "cell_type": "code",
   "execution_count": null,
   "metadata": {},
   "outputs": [],
   "source": [
    "soup = BeautifulSoup(table_games, 'html.parser')\n",
    "\n",
    "href = soup.find_all('td', class_='score')\n",
    "\n",
    "urls = []\n",
    "for link in href:\n",
    "    urls.append(link.find('a').attrs['href'])"
   ]
  },
  {
   "cell_type": "markdown",
   "metadata": {},
   "source": [
    "Pegando Informações de cada JOGO"
   ]
  },
  {
   "cell_type": "code",
   "execution_count": null,
   "metadata": {},
   "outputs": [],
   "source": [
    "gol_home_15 = []\n",
    "\n",
    "url = ['https://www.academiadasapostasbrasil.com/stats/match/europa/uefa-nations-league/alemanha/italia/o1qZpnoJlQn5B']\n",
    "\n",
    "wait_lt = WebDriverWait(f, 27, poll_frequency=1.5)\n",
    "\n",
    "for u in url:\n",
    "    def wait(f):\n",
    "        click = f.find_element(By.XPATH, '//li[@data-id = \"last_10g\"][@market=\"teams_goals\"]')\n",
    "        click.click()\n",
    "        last_ten = f.find_element(By.XPATH, '//li[@data-id = \"last_10g\"][@market=\"teams_goals\"][contains(@class, \"current\")]')\n",
    "        print('esperando click nos \"10 ultimos\" ')\n",
    "        return bool(last_ten)\n",
    "        \n",
    "    f.get(u)\n",
    "\n",
    "    # 10 ultimos jogos\n",
    "    wait_lt.until(wait, \"Não clicou nos '10 ultimos'\")\n",
    "    sleep(1)\n",
    "    game = f.find_element(By.XPATH, '//table[@class=\"stat-goals\"]/parent::td/parent::tr').get_attribute(\"outerHTML\")\n",
    "    soup = BeautifulSoup(game, 'html.parser')\n",
    "    #gol_away_15.append(soup.find('td', class_='stats-wd-goalstime3 no-separator').text)\n",
    "    gol_home_15.append(soup.find('td', class_='stats-wd-goalstime3 no-separator').text)\n",
    "\n",
    "#f.quit()"
   ]
  }
 ],
 "metadata": {
  "kernelspec": {
   "display_name": "Python 3.8.2 ('venv': venv)",
   "language": "python",
   "name": "python3"
  },
  "language_info": {
   "codemirror_mode": {
    "name": "ipython",
    "version": 3
   },
   "file_extension": ".py",
   "mimetype": "text/x-python",
   "name": "python",
   "nbconvert_exporter": "python",
   "pygments_lexer": "ipython3",
   "version": "3.8.2"
  },
  "orig_nbformat": 4,
  "vscode": {
   "interpreter": {
    "hash": "73ae350a481fd2b81e12da5f178d258fb7322dc726e3dad938780f34a0668666"
   }
  }
 },
 "nbformat": 4,
 "nbformat_minor": 2
}
