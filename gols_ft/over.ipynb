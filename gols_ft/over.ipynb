{
 "cells": [
  {
   "cell_type": "markdown",
   "metadata": {},
   "source": [
    "# Primeiro passo importar todas as Libs que vamos utilizar\n"
   ]
  },
  {
   "cell_type": "code",
   "execution_count": 1,
   "metadata": {},
   "outputs": [],
   "source": [
    "# Importa as opções do Firefox\n",
    "from selenium.webdriver.firefox.options import Options\n",
    "from selenium.webdriver.common.by import By\n",
    "from selenium.webdriver import Firefox\n",
    "from time import sleep\n",
    "import pandas as pd\n",
    "from urllib import request\n",
    "from bs4 import BeautifulSoup\n",
    "from selenium.webdriver.support.ui import WebDriverWait\n",
    "from selenium.webdriver import FirefoxProfile\n",
    "import json"
   ]
  },
  {
   "cell_type": "markdown",
   "metadata": {},
   "source": [
    "# Definindo variáveis"
   ]
  },
  {
   "cell_type": "code",
   "execution_count": 2,
   "metadata": {},
   "outputs": [],
   "source": [
    "# navegador...\n",
    "f = Firefox()\n",
    "# url da página inicial da academia das apostas\n",
    "academia = \"https://www.academiadasapostasbrasil.com/\"\n",
    "# abrindo o Navegador e Request\n",
    "f.get(academia)\n",
    "# waits \n",
    "wdw = WebDriverWait(f, 30, poll_frequency=1)"
   ]
  },
  {
   "cell_type": "markdown",
   "metadata": {},
   "source": [
    "# DEFs que Pegam URLs e a guardam em um JSON"
   ]
  },
  {
   "cell_type": "code",
   "execution_count": 6,
   "metadata": {},
   "outputs": [],
   "source": [
    "qt_analises_page = 1 # quantas vezes a lista de jogos foram att\n",
    "def prox_urls(): \n",
    "    \"\"\"\n",
    "    Faz o click para listar os próximos jogos && tem um contador\n",
    "    \"\"\"\n",
    "    global qt_analises_page\n",
    "    next_btn = f.find_element(\n",
    "        By.XPATH, \n",
    "        '//div[@class= \"widget-double-container-left mb-content\"]//span[contains(@class, \"date-increment\")]'\n",
    "        )\n",
    "    qt_analises_page += 1\n",
    "    next_btn.click()  \n",
    "\n",
    "def wait_expansao():\n",
    "    \"\"\"\n",
    "    vai retornar TRUE até expandir tudo, ou seja enquanto houver jogos ocultos continua TRUE\n",
    "    \"\"\"\n",
    "    try:\n",
    "        btn_exp = f.find_element(By.XPATH, '//td[contains(@class, \"footer\")]')\n",
    "    except:\n",
    "        sleep(1)\n",
    "        print('WARN: btn de expandir não existe mais')\n",
    "        btn_exp = False\n",
    "    \n",
    "    return (True if bool(btn_exp) else False)\n",
    "    \n",
    "def click_expansao(): \n",
    "    \"\"\"\n",
    "     função q responsável pela expansão de todos os jogos\n",
    "    \"\"\"\n",
    "    try:\n",
    "        sleep(1)\n",
    "        #while wait_expansao():\n",
    "        if wait_expansao():\n",
    "            btn_exp = f.find_element(By.XPATH, '//td[contains(@class, \"footer\")]')\n",
    "            btn_exp.click()\n",
    "            wdw.until_not(wait_expansao, \"erro na def soup\")     \n",
    "    except:\n",
    "        sleep(1)\n",
    "        print('WARN: verificando se ainda tem btn_expandir para refazer o click')\n",
    "        if wait_expansao():\n",
    "            click_expansao()\n",
    "    \n",
    "urls = [] # vai guardar as urls\n",
    "def soup():\n",
    "    \"\"\"\n",
    "        cria objeto BS4;\n",
    "        cria JSONs para cada dia, Ex: [ {hoje:[url, url]}, {17/07/20: [url, url]} ]\n",
    "    \"\"\"\n",
    "    try:\n",
    "        # tabela de jogos\n",
    "        table_games = f.find_element(\n",
    "            By.XPATH, \n",
    "            '//div[@class=\"widget-double livescores large\"]').get_attribute(\n",
    "                'outerHTML'\n",
    "                )\n",
    "        soup = BeautifulSoup(table_games, 'html.parser') # criando soup\n",
    "        date = soup.find('label').attrs['data-displaydate'] # data\n",
    "        href = soup.find_all('td', class_='score') # todas partidas\n",
    "        print(f'DIA: {date} - Jogos adicionados: {len(href)}')\n",
    "        all_urls = {date: [] }\n",
    "        # preciso pegar a referencia da data p\n",
    "        for link in href:\n",
    "            all_urls[date].append(link.find('a').attrs['href'])\n",
    "        urls.append(all_urls)\n",
    "    except:\n",
    "        print('soup error')\n",
    "\n",
    "def gerar_json():\n",
    "    with open('urls.json', 'w', encoding='utf-8') as jp:\n",
    "        # criando arquivo JSON\n",
    "        # json só faz dump ou load \n",
    "        # (o primeiro converte o obj em str, enquanto o load faz o oposto)\n",
    "        jayzon = json.dumps(urls, indent=4)\n",
    "        jp.write(jayzon)\n",
    "    print('JSON gerado!')\n"
   ]
  },
  {
   "cell_type": "markdown",
   "metadata": {},
   "source": [
    "# Criando JSON - processo de execução..."
   ]
  },
  {
   "cell_type": "code",
   "execution_count": 5,
   "metadata": {},
   "outputs": [
    {
     "name": "stdout",
     "output_type": "stream",
     "text": [
      "iniciando 1\n",
      "WARN: verificando se ainda tem btn_expandir para refazer o click\n",
      "WARN: verificando se ainda tem btn_expandir para refazer o click\n",
      "WARN: btn de expandir não existe mais\n",
      "DIA: Hoje - Jogos adicionados: 248\n",
      "iniciando 2\n",
      "WARN: btn de expandir não existe mais\n",
      "WARN: verificando se ainda tem btn_expandir para refazer o click\n",
      "WARN: verificando se ainda tem btn_expandir para refazer o click\n",
      "WARN: btn de expandir não existe mais\n",
      "DIA: Mon, 07/18/2022 - Jogos adicionados: 63\n",
      "iniciando 3\n",
      "WARN: btn de expandir não existe mais\n",
      "WARN: verificando se ainda tem btn_expandir para refazer o click\n",
      "WARN: verificando se ainda tem btn_expandir para refazer o click\n",
      "WARN: btn de expandir não existe mais\n",
      "DIA: Tue, 07/19/2022 - Jogos adicionados: 162\n",
      "Qt de dias analisados: 3\n"
     ]
    }
   ],
   "source": [
    "try:\n",
    "    for i in range(3):\n",
    "        print(f'iniciando {i+1}')\n",
    "        if i > 0:\n",
    "            prox_urls()\n",
    "        wait_expansao()\n",
    "        click_expansao()\n",
    "        soup()\n",
    "    print(f'Qt de dias analisados: {qt_analises_page}')\n",
    "    gerar_json()\n",
    "except:\n",
    "    print('FATAL ERROR!!!!')"
   ]
  },
  {
   "cell_type": "markdown",
   "metadata": {},
   "source": [
    "Pegando Informações de cada JOGO"
   ]
  },
  {
   "cell_type": "code",
   "execution_count": null,
   "metadata": {},
   "outputs": [],
   "source": [
    "gol_home_15 = []\n",
    "\n",
    "url = ['https://www.academiadasapostasbrasil.com/stats/match/europa/uefa-nations-league/alemanha/italia/o1qZpnoJlQn5B']\n",
    "\n",
    "wait_lt = WebDriverWait(f, 27, poll_frequency=1.5)\n",
    "\n",
    "for u in url:\n",
    "    def wait(f):\n",
    "        click = f.find_element(By.XPATH, '//li[@data-id = \"last_10g\"][@market=\"teams_goals\"]')\n",
    "        click.click()\n",
    "        last_ten = f.find_element(By.XPATH, '//li[@data-id = \"last_10g\"][@market=\"teams_goals\"][contains(@class, \"current\")]')\n",
    "        print('esperando click nos \"10 ultimos\" ')\n",
    "        return bool(last_ten)\n",
    "        \n",
    "    f.get(u)\n",
    "\n",
    "    # 10 ultimos jogos\n",
    "    wait_lt.until(wait, \"Não clicou nos '10 ultimos'\")\n",
    "    sleep(1)\n",
    "    game = f.find_element(By.XPATH, '//table[@class=\"stat-goals\"]/parent::td/parent::tr').get_attribute(\"outerHTML\")\n",
    "    soup = BeautifulSoup(game, 'html.parser')\n",
    "    #gol_away_15.append(soup.find('td', class_='stats-wd-goalstime3 no-separator').text)\n",
    "    gol_home_15.append(soup.find('td', class_='stats-wd-goalstime3 no-separator').text)\n",
    "\n",
    "#f.quit()"
   ]
  }
 ],
 "metadata": {
  "kernelspec": {
   "display_name": "Python 3.8.2 ('venv': venv)",
   "language": "python",
   "name": "python3"
  },
  "language_info": {
   "codemirror_mode": {
    "name": "ipython",
    "version": 3
   },
   "file_extension": ".py",
   "mimetype": "text/x-python",
   "name": "python",
   "nbconvert_exporter": "python",
   "pygments_lexer": "ipython3",
   "version": "3.8.2"
  },
  "orig_nbformat": 4,
  "vscode": {
   "interpreter": {
    "hash": "73ae350a481fd2b81e12da5f178d258fb7322dc726e3dad938780f34a0668666"
   }
  }
 },
 "nbformat": 4,
 "nbformat_minor": 2
}
