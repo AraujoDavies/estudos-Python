{
 "cells": [
  {
   "cell_type": "markdown",
   "metadata": {},
   "source": [
    "Primeiro passo importar todas as Libs que vamos utilizar e salvar cookies"
   ]
  },
  {
   "cell_type": "code",
   "execution_count": 3,
   "metadata": {},
   "outputs": [
    {
     "name": "stderr",
     "output_type": "stream",
     "text": [
      "C:\\Users\\MrRobot\\AppData\\Local\\Temp\\ipykernel_8416\\2184810664.py:14: DeprecationWarning: firefox_profile has been deprecated, please use an Options object\n",
      "  firefox_profile = FirefoxProfile()\n",
      "C:\\Users\\MrRobot\\AppData\\Local\\Temp\\ipykernel_8416\\2184810664.py:17: DeprecationWarning: Setting a profile has been deprecated. Please use the set_preference and install_addons methods\n",
      "  options.profile = firefox_profile\n",
      "C:\\Users\\MrRobot\\AppData\\Local\\Temp\\ipykernel_8416\\2184810664.py:18: DeprecationWarning: Getting a profile has been deprecated.\n",
      "  f = Firefox(options.profile)\n",
      "C:\\Users\\MrRobot\\AppData\\Local\\Temp\\ipykernel_8416\\2184810664.py:18: DeprecationWarning: firefox_profile has been deprecated, please pass in an Options object\n",
      "  f = Firefox(options.profile)\n"
     ]
    }
   ],
   "source": [
    "# Importa as opções do Firefox\n",
    "from selenium.webdriver.firefox.options import Options\n",
    "from selenium.webdriver.common.by import By\n",
    "from selenium.webdriver import Firefox\n",
    "from time import sleep\n",
    "import pandas as pd\n",
    "from urllib import request\n",
    "from bs4 import BeautifulSoup\n",
    "from selenium.webdriver.support.ui import WebDriverWait\n",
    "from selenium.webdriver import FirefoxProfile\n",
    "\n",
    "# Salvando Cookies\n",
    "options=Options()\n",
    "firefox_profile = FirefoxProfile()\n",
    "profile_path = \"C:/Users/MrRobot/AppData/Local/Mozilla/Firefox/Profiles/bfdpse1l.Selenium\"\n",
    "firefox_profile.set_preference(\"profile\", profile_path)\n",
    "options.profile = firefox_profile\n",
    "f = Firefox(options.profile) "
   ]
  },
  {
   "cell_type": "markdown",
   "metadata": {},
   "source": [
    "Pegando o HTML da página"
   ]
  },
  {
   "cell_type": "code",
   "execution_count": 47,
   "metadata": {},
   "outputs": [
    {
     "ename": "InvalidSessionIdException",
     "evalue": "Message: Tried to run command without establishing a connection\n",
     "output_type": "error",
     "traceback": [
      "\u001b[1;31m---------------------------------------------------------------------------\u001b[0m",
      "\u001b[1;31mInvalidSessionIdException\u001b[0m                 Traceback (most recent call last)",
      "\u001b[1;32mf:\\SOdatafiles\\Dev\\python\\estudos-Python-repositorio\\gols_ft\\over.ipynb Célula: 4\u001b[0m in \u001b[0;36m<cell line: 5>\u001b[1;34m()\u001b[0m\n\u001b[0;32m      <a href='vscode-notebook-cell:/f%3A/SOdatafiles/Dev/python/estudos-Python-repositorio/gols_ft/over.ipynb#ch0000003?line=1'>2</a>\u001b[0m academia \u001b[39m=\u001b[39m \u001b[39m\"\u001b[39m\u001b[39mhttps://www.academiadasapostasbrasil.com/\u001b[39m\u001b[39m\"\u001b[39m\n\u001b[0;32m      <a href='vscode-notebook-cell:/f%3A/SOdatafiles/Dev/python/estudos-Python-repositorio/gols_ft/over.ipynb#ch0000003?line=3'>4</a>\u001b[0m \u001b[39m# abrindo o Navegador e Request\u001b[39;00m\n\u001b[1;32m----> <a href='vscode-notebook-cell:/f%3A/SOdatafiles/Dev/python/estudos-Python-repositorio/gols_ft/over.ipynb#ch0000003?line=4'>5</a>\u001b[0m f\u001b[39m.\u001b[39;49mget(academia)\n\u001b[0;32m      <a href='vscode-notebook-cell:/f%3A/SOdatafiles/Dev/python/estudos-Python-repositorio/gols_ft/over.ipynb#ch0000003?line=6'>7</a>\u001b[0m \u001b[39m# expandir 2 paginas de jogos\u001b[39;00m\n\u001b[0;32m      <a href='vscode-notebook-cell:/f%3A/SOdatafiles/Dev/python/estudos-Python-repositorio/gols_ft/over.ipynb#ch0000003?line=7'>8</a>\u001b[0m \u001b[39mfor\u001b[39;00m i \u001b[39min\u001b[39;00m \u001b[39mrange\u001b[39m(\u001b[39m2\u001b[39m):\n",
      "File \u001b[1;32mf:\\SOdatafiles\\Dev\\python\\estudos-Python-repositorio\\venv\\lib\\site-packages\\selenium\\webdriver\\remote\\webdriver.py:447\u001b[0m, in \u001b[0;36mWebDriver.get\u001b[1;34m(self, url)\u001b[0m\n\u001b[0;32m    443\u001b[0m \u001b[39mdef\u001b[39;00m \u001b[39mget\u001b[39m(\u001b[39mself\u001b[39m, url: \u001b[39mstr\u001b[39m) \u001b[39m-\u001b[39m\u001b[39m>\u001b[39m \u001b[39mNone\u001b[39;00m:\n\u001b[0;32m    444\u001b[0m     \u001b[39m\"\"\"\u001b[39;00m\n\u001b[0;32m    445\u001b[0m \u001b[39m    Loads a web page in the current browser session.\u001b[39;00m\n\u001b[0;32m    446\u001b[0m \u001b[39m    \"\"\"\u001b[39;00m\n\u001b[1;32m--> 447\u001b[0m     \u001b[39mself\u001b[39;49m\u001b[39m.\u001b[39;49mexecute(Command\u001b[39m.\u001b[39;49mGET, {\u001b[39m'\u001b[39;49m\u001b[39murl\u001b[39;49m\u001b[39m'\u001b[39;49m: url})\n",
      "File \u001b[1;32mf:\\SOdatafiles\\Dev\\python\\estudos-Python-repositorio\\venv\\lib\\site-packages\\selenium\\webdriver\\remote\\webdriver.py:435\u001b[0m, in \u001b[0;36mWebDriver.execute\u001b[1;34m(self, driver_command, params)\u001b[0m\n\u001b[0;32m    433\u001b[0m response \u001b[39m=\u001b[39m \u001b[39mself\u001b[39m\u001b[39m.\u001b[39mcommand_executor\u001b[39m.\u001b[39mexecute(driver_command, params)\n\u001b[0;32m    434\u001b[0m \u001b[39mif\u001b[39;00m response:\n\u001b[1;32m--> 435\u001b[0m     \u001b[39mself\u001b[39;49m\u001b[39m.\u001b[39;49merror_handler\u001b[39m.\u001b[39;49mcheck_response(response)\n\u001b[0;32m    436\u001b[0m     response[\u001b[39m'\u001b[39m\u001b[39mvalue\u001b[39m\u001b[39m'\u001b[39m] \u001b[39m=\u001b[39m \u001b[39mself\u001b[39m\u001b[39m.\u001b[39m_unwrap_value(\n\u001b[0;32m    437\u001b[0m         response\u001b[39m.\u001b[39mget(\u001b[39m'\u001b[39m\u001b[39mvalue\u001b[39m\u001b[39m'\u001b[39m, \u001b[39mNone\u001b[39;00m))\n\u001b[0;32m    438\u001b[0m     \u001b[39mreturn\u001b[39;00m response\n",
      "File \u001b[1;32mf:\\SOdatafiles\\Dev\\python\\estudos-Python-repositorio\\venv\\lib\\site-packages\\selenium\\webdriver\\remote\\errorhandler.py:247\u001b[0m, in \u001b[0;36mErrorHandler.check_response\u001b[1;34m(self, response)\u001b[0m\n\u001b[0;32m    245\u001b[0m         alert_text \u001b[39m=\u001b[39m value[\u001b[39m'\u001b[39m\u001b[39malert\u001b[39m\u001b[39m'\u001b[39m]\u001b[39m.\u001b[39mget(\u001b[39m'\u001b[39m\u001b[39mtext\u001b[39m\u001b[39m'\u001b[39m)\n\u001b[0;32m    246\u001b[0m     \u001b[39mraise\u001b[39;00m exception_class(message, screen, stacktrace, alert_text)  \u001b[39m# type: ignore[call-arg]  # mypy is not smart enough here\u001b[39;00m\n\u001b[1;32m--> 247\u001b[0m \u001b[39mraise\u001b[39;00m exception_class(message, screen, stacktrace)\n",
      "\u001b[1;31mInvalidSessionIdException\u001b[0m: Message: Tried to run command without establishing a connection\n"
     ]
    }
   ],
   "source": [
    "# url da página inicial da academia das apostas\n",
    "academia = \"https://www.academiadasapostasbrasil.com/\"\n",
    "\n",
    "# abrindo o Navegador e Request\n",
    "f.get(academia)\n",
    "\n",
    "# expandir 2 paginas de jogos\n",
    "for i in range(2):\n",
    "    sleep(6) # se der erro, aumente p 7.5\n",
    "    #expandir + jogos\n",
    "    f.find_element(By.XPATH, '//td[contains(@class, \"footer\")]').click()\n",
    "\n",
    "sleep(6)\n",
    "table_games = f.find_element(By.XPATH, '//div[@id=\"fh_main_tab\"]//tbody').get_attribute('outerHTML')"
   ]
  },
  {
   "cell_type": "markdown",
   "metadata": {},
   "source": [
    "Pegando URLs"
   ]
  },
  {
   "cell_type": "code",
   "execution_count": null,
   "metadata": {},
   "outputs": [],
   "source": [
    "soup = BeautifulSoup(table_games, 'html.parser')\n",
    "\n",
    "href = soup.find_all('td', class_='score')\n",
    "\n",
    "urls = []\n",
    "for link in href:\n",
    "    urls.append(link.find('a').attrs['href'])"
   ]
  },
  {
   "cell_type": "markdown",
   "metadata": {},
   "source": [
    "Pegando Informações de cada JOGO"
   ]
  },
  {
   "cell_type": "code",
   "execution_count": null,
   "metadata": {},
   "outputs": [],
   "source": [
    "gol_home_15 = []\n",
    "\n",
    "url = ['https://www.academiadasapostasbrasil.com/stats/match/europa/uefa-nations-league/alemanha/italia/o1qZpnoJlQn5B']\n",
    "\n",
    "wait_lt = WebDriverWait(f, 27, poll_frequency=1.5)\n",
    "\n",
    "for u in url:\n",
    "    def wait(f):\n",
    "        click = f.find_element(By.XPATH, '//li[@data-id = \"last_10g\"][@market=\"teams_goals\"]')\n",
    "        click.click()\n",
    "        last_ten = f.find_element(By.XPATH, '//li[@data-id = \"last_10g\"][@market=\"teams_goals\"][contains(@class, \"current\")]')\n",
    "        print('esperando click nos 10 ultimos')\n",
    "        return bool(last_ten)\n",
    "        \n",
    "    f.get(u)\n",
    "\n",
    "    # 10 ultimos jogos\n",
    "    wait_lt.until(wait, \"Não clicou nos '10 ultimos'\")\n",
    "    sleep(1)\n",
    "    game = f.find_element(By.XPATH, '//table[@class=\"stat-goals\"]/parent::td/parent::tr').get_attribute(\"outerHTML\")\n",
    "    soup = BeautifulSoup(game, 'html.parser')\n",
    "    #gol_away_15.append(soup.find('td', class_='stats-wd-goalstime3 no-separator').text)\n",
    "    gol_home_15.append(soup.find('td', class_='stats-wd-goalstime3 no-separator').text)\n",
    "\n",
    "#f.quit()"
   ]
  }
 ],
 "metadata": {
  "kernelspec": {
   "display_name": "Python 3.8.2 32-bit",
   "language": "python",
   "name": "python3"
  },
  "language_info": {
   "codemirror_mode": {
    "name": "ipython",
    "version": 3
   },
   "file_extension": ".py",
   "mimetype": "text/x-python",
   "name": "python",
   "nbconvert_exporter": "python",
   "pygments_lexer": "ipython3",
   "version": "3.8.2"
  },
  "orig_nbformat": 4,
  "vscode": {
   "interpreter": {
    "hash": "93bef068d0058f249eb0f15207614a353e38756e9a9a6ce797b9324620a075a4"
   }
  }
 },
 "nbformat": 4,
 "nbformat_minor": 2
}
