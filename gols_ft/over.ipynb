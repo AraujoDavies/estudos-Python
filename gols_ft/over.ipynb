{
 "cells": [
  {
   "cell_type": "markdown",
   "metadata": {},
   "source": [
    "Primeiro passo importar todas as Libs que vamos utilizar"
   ]
  },
  {
   "cell_type": "code",
   "execution_count": 1,
   "metadata": {},
   "outputs": [
    {
     "ename": "ModuleNotFoundError",
     "evalue": "No module named 'selenium'",
     "output_type": "error",
     "traceback": [
      "\u001b[1;31m---------------------------------------------------------------------------\u001b[0m",
      "\u001b[1;31mModuleNotFoundError\u001b[0m                       Traceback (most recent call last)",
      "\u001b[1;32mf:\\SOdatafiles\\Dev\\python\\estudos-Python-repositorio\\gols_ft\\over.ipynb Cell 2'\u001b[0m in \u001b[0;36m<cell line: 2>\u001b[1;34m()\u001b[0m\n\u001b[0;32m      <a href='vscode-notebook-cell:/f%3A/SOdatafiles/Dev/python/estudos-Python-repositorio/gols_ft/over.ipynb#ch0000001?line=0'>1</a>\u001b[0m \u001b[39m# Importa as opções do Firefox\u001b[39;00m\n\u001b[1;32m----> <a href='vscode-notebook-cell:/f%3A/SOdatafiles/Dev/python/estudos-Python-repositorio/gols_ft/over.ipynb#ch0000001?line=1'>2</a>\u001b[0m \u001b[39mfrom\u001b[39;00m \u001b[39mselenium\u001b[39;00m\u001b[39m.\u001b[39;00m\u001b[39mwebdriver\u001b[39;00m\u001b[39m.\u001b[39;00m\u001b[39mfirefox\u001b[39;00m\u001b[39m.\u001b[39;00m\u001b[39moptions\u001b[39;00m \u001b[39mimport\u001b[39;00m Options\n\u001b[0;32m      <a href='vscode-notebook-cell:/f%3A/SOdatafiles/Dev/python/estudos-Python-repositorio/gols_ft/over.ipynb#ch0000001?line=2'>3</a>\u001b[0m \u001b[39mfrom\u001b[39;00m \u001b[39mselenium\u001b[39;00m\u001b[39m.\u001b[39;00m\u001b[39mwebdriver\u001b[39;00m\u001b[39m.\u001b[39;00m\u001b[39mcommon\u001b[39;00m\u001b[39m.\u001b[39;00m\u001b[39mby\u001b[39;00m \u001b[39mimport\u001b[39;00m By\n\u001b[0;32m      <a href='vscode-notebook-cell:/f%3A/SOdatafiles/Dev/python/estudos-Python-repositorio/gols_ft/over.ipynb#ch0000001?line=3'>4</a>\u001b[0m \u001b[39mfrom\u001b[39;00m \u001b[39mselenium\u001b[39;00m \u001b[39mimport\u001b[39;00m webdriver\n",
      "\u001b[1;31mModuleNotFoundError\u001b[0m: No module named 'selenium'"
     ]
    }
   ],
   "source": [
    "# Importa as opções do Firefox\n",
    "from selenium.webdriver.firefox.options import Options\n",
    "from selenium.webdriver.common.by import By\n",
    "from selenium import webdriver\n",
    "from time import sleep\n",
    "import pandas as pd\n",
    "from urllib import request\n",
    "from bs4 import BeautifulSoup"
   ]
  },
  {
   "cell_type": "markdown",
   "metadata": {},
   "source": [
    "Pegando as URLs de todos os jogos"
   ]
  },
  {
   "cell_type": "code",
   "execution_count": 51,
   "metadata": {},
   "outputs": [
    {
     "data": {
      "text/plain": [
       "187"
      ]
     },
     "execution_count": 51,
     "metadata": {},
     "output_type": "execute_result"
    }
   ],
   "source": [
    "# url da página inicial da academia das apostas\n",
    "academia = \"https://www.academiadasapostasbrasil.com/\"\n",
    "\n",
    "# abrindo o firefox em background\n",
    "option = Options()\n",
    "option.headless = False\n",
    "driver = webdriver.Firefox(options=option)\n",
    "\n",
    "driver.get(academia)\n",
    "# sleep (10)\n",
    "# driver.quit()\n",
    "\n",
    "for i in range(0,2):\n",
    "    sleep(5) # colocar uma espera aqui\n",
    "    driver.find_element(By.XPATH, '//td[contains(@class, \"footer\")]')\n",
    "    driver.find_element(By.XPATH, '//td[contains(@class, \"footer\")]').click()\n",
    "\n",
    "sleep(3)\n",
    "\n",
    "len(driver.find_elements(By.XPATH, '//table//tbody//tr[@type=\"match\"]'))\n",
    "\n",
    "\n",
    "    "
   ]
  },
  {
   "cell_type": "code",
   "execution_count": 46,
   "metadata": {},
   "outputs": [
    {
     "data": {
      "text/plain": [
       "189"
      ]
     },
     "execution_count": 46,
     "metadata": {},
     "output_type": "execute_result"
    }
   ],
   "source": [
    "sleep(3)\n",
    "html_table = driver.find_element(By.XPATH, '//table[contains(@class, \"dskt\")]').get_attribute('outerHTML')\n",
    "\n",
    "def trata_html(input):\n",
    "    return \" \".join(input.split()).replace('> <','><')\n",
    "\n",
    "html_table = trata_html(html_table)\n",
    "\n",
    "soup = BeautifulSoup(html_table, 'html.parser')\n",
    "\n",
    "len(soup.find_all('tr'))"
   ]
  },
  {
   "cell_type": "code",
   "execution_count": 2,
   "metadata": {},
   "outputs": [
    {
     "name": "stdout",
     "output_type": "stream",
     "text": [
      "oi\n"
     ]
    }
   ],
   "source": []
  },
  {
   "cell_type": "code",
   "execution_count": null,
   "metadata": {},
   "outputs": [],
   "source": []
  }
 ],
 "metadata": {
  "kernelspec": {
   "display_name": "Python 3.8.2 ('venv': venv)",
   "language": "python",
   "name": "python3"
  },
  "language_info": {
   "codemirror_mode": {
    "name": "ipython",
    "version": 3
   },
   "file_extension": ".py",
   "mimetype": "text/x-python",
   "name": "python",
   "nbconvert_exporter": "python",
   "pygments_lexer": "ipython3",
   "version": "3.8.2"
  },
  "orig_nbformat": 4,
  "vscode": {
   "interpreter": {
    "hash": "73ae350a481fd2b81e12da5f178d258fb7322dc726e3dad938780f34a0668666"
   }
  }
 },
 "nbformat": 4,
 "nbformat_minor": 2
}
