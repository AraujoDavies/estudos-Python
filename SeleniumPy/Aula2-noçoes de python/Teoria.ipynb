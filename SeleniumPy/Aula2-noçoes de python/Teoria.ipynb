{
 "cells": [
  {
   "cell_type": "markdown",
   "metadata": {},
   "source": [
    "# Introdução:"
   ]
  },
  {
   "cell_type": "code",
   "execution_count": null,
   "metadata": {},
   "outputs": [],
   "source": [
    "# print => escreve na tela\n",
    "print(\"Oi, Meu nome é:\\nDavies\")\n",
    "\n",
    "# input => escreve algo e pede para o usuário inputar\n",
    "idade = input('qual é a sua idade ?')\n",
    "print(idade)"
   ]
  },
  {
   "cell_type": "markdown",
   "metadata": {},
   "source": [
    "# Variáveis"
   ]
  },
  {
   "cell_type": "code",
   "execution_count": null,
   "metadata": {},
   "outputs": [],
   "source": [
    "# Uma Variável é como etiquetas q vc coloca em alguém :D\n",
    "nome = 'Davies'\n",
    "Davies = nome #FUNFA\n",
    "\n",
    "del nome\n",
    "\n",
    "#Davies = nome #ERROR\n",
    "\n",
    "print(Davies)\n",
    "# print(nome)"
   ]
  },
  {
   "cell_type": "markdown",
   "metadata": {},
   "source": [
    "# Strings"
   ]
  },
  {
   "cell_type": "code",
   "execution_count": null,
   "metadata": {},
   "outputs": [],
   "source": [
    "string = 'jeito um'\n",
    "string = \"jeito dois\"\n",
    "\n",
    "multilinhas = \"\"\"\n",
    "Outro \n",
    "Jeito \n",
    "de\n",
    "string\n",
    "\"\"\"\n",
    "\n",
    "# print(multilinhas)\n",
    "\n",
    "# Concatenando:\n",
    "apresentacao = \"Eu me chamo Davies, Prazer em conhecê-lo\"\n",
    "pergunta = 'Qual é o seu nome?'\n",
    "\n",
    "#print(apresentacao + '. ' + pergunta)\n",
    "\n",
    "print('Corrida de cavalos:')\n",
    "print ('#' + ' '*20 + '🐎')\n",
    "print ('#' + ' '*18 + '🐎')\n",
    "print ('#' + ' '*30 + '🐎')\n",
    "print ('#' + ' '*22 + '🐎')\n",
    "print ('#' + ' '*25 + '🐎')\n",
    "print ('#' + ' '*11 + '🐎')\n",
    "\n",
    "#alguns métodos:\n",
    "a = 'abracadabra'\n",
    "a.count('a') # return 5\n",
    "a.index('c') # return 4\n",
    "a.partition('c') # return Tupla ('abra', 'c', 'adabra')\n",
    "a.replace('a', 'c') # return cbrcccdcbrc\n",
    "a.upper() # ABRACADABRA lower | capitalize\n",
    "a.split('b') # return List ['a', 'racada', 'ra']\n",
    "\n",
    "#dir('') retorna todas funções de strings"
   ]
  },
  {
   "cell_type": "code",
   "execution_count": null,
   "metadata": {},
   "outputs": [],
   "source": [
    "# usando o IN\n",
    "\n",
    "msg = \" Davies está Feliz \"\n",
    "\n",
    "if 'triste' in msg:\n",
    "    print('Sim, Davies está triste D:')"
   ]
  },
  {
   "cell_type": "markdown",
   "metadata": {},
   "source": [
    "# Operadores"
   ]
  },
  {
   "cell_type": "code",
   "execution_count": null,
   "metadata": {},
   "outputs": [],
   "source": [
    "# Operadores { + - * ** / // % }\n",
    "\n",
    "2 ** 2\n",
    "\n",
    "5 // 3\n",
    "\n",
    "10 % 7\n",
    "\n",
    "# digite \"python\" no terminal e faça os cálculos :D"
   ]
  },
  {
   "cell_type": "markdown",
   "metadata": {},
   "source": [
    "# Booleanos and or Condicionais"
   ]
  },
  {
   "cell_type": "code",
   "execution_count": null,
   "metadata": {},
   "outputs": [],
   "source": [
    "# digitar \"python\" no terminal e testar os comandos:\n",
    "\n",
    "3 > 2 # true\n",
    "3 > 4 # false\n",
    "\n",
    "nome1 = 'Davies'\n",
    "nome2 = 'Sirlei'\n",
    "\n",
    "nome1 == nome2 # false\n",
    "nome1 != nome2 # true\n",
    "\n",
    "# condionais => and, or, not\n",
    "\n",
    "3 > 2 and 5 == 5 # true\n",
    "nome1 == nome2 or 3 > 2 # TRUE\n",
    "not 3 > 2 and 5 == 5 # false"
   ]
  },
  {
   "cell_type": "code",
   "execution_count": null,
   "metadata": {},
   "outputs": [],
   "source": [
    "\n",
    "x = int(input('digite um numero: '))\n",
    "\n",
    "if x <= 10:\n",
    "    print(' vc caiu no IF ')\n",
    "elif x <= 20:\n",
    "    print('vc caiu no ELIF')\n",
    "else:\n",
    "    print('vc caiu no ELSE')"
   ]
  },
  {
   "cell_type": "markdown",
   "metadata": {},
   "source": [
    "# Laços de Repetição..."
   ]
  },
  {
   "cell_type": "code",
   "execution_count": null,
   "metadata": {},
   "outputs": [],
   "source": [
    "# While and Break\n",
    "\n",
    "resposta = input(\"Bora tomar uma ?[s/n]  \")\n",
    "i = 1\n",
    "\n",
    "while resposta != \"s\":\n",
    "    resposta = input(\"Bora vai ?[s/n]  \")\n",
    "    i += 1\n",
    "    if \"chato\" in resposta or \"chata\" in resposta:\n",
    "        print (\"Sorry!!\")\n",
    "        break\n",
    "else:\n",
    "    print (f\"A{'e' * i}! Bora logo intaum!\")"
   ]
  },
  {
   "cell_type": "code",
   "execution_count": null,
   "metadata": {},
   "outputs": [],
   "source": [
    "# FOR usando enumerate\n",
    "\n",
    "palavra = \"python\"\n",
    "\n",
    "for posicao, letra in enumerate(palavra):\n",
    "    print(posicao, letra)\n",
    "\n",
    "\n",
    "frase = \"eu fui ao bar\".split(\" \")\n",
    "\n",
    "for palavra in frase:\n",
    "    if palavra == \"eu\":\n",
    "        print(\"Davies,\")\n",
    "    else:\n",
    "        print (palavra)"
   ]
  },
  {
   "cell_type": "markdown",
   "metadata": {},
   "source": [
    "# Conjuntos"
   ]
  },
  {
   "cell_type": "code",
   "execution_count": null,
   "metadata": {},
   "outputs": [],
   "source": [
    "conjunto1 = {1, 2, 3}\n",
    "conjunto2 = {3, 4, 5}\n",
    "\n",
    "print(conjunto1)\n",
    "#########################\n",
    "\n",
    "nome_iguais = {'Davies', 'Davies'} # conjuntos nao aceita iguais\n",
    "\n",
    "print(nome_iguais)\n",
    "\n",
    "# Transformar uma lista em conjuntos é legal!!!\n",
    "numeros = [1,1,1,1,1,1,1,2,3,3,4,4,4,4,45,5,5,5]\n",
    "\n",
    "change = set(numeros)\n",
    "\n",
    "print(change)\n",
    "newList = list(change)\n",
    "print(newList)\n",
    "\n",
    "\n",
    "#funções\n",
    "conjunto1.union({conjunto2}) # 1,2,3,4,5\n",
    "conjunto1.difference(conjunto2) # 1, 2\n",
    "conjunto1.intersection(conjunto2) # 3\n",
    "conjunto1.update(conjunto2) #1,2,3,4,5\n",
    "conjunto1.pop() #tira valores aleatorios pq a estrutura do conjunto é diferente\n",
    "conjunto1.discard(1) # 2, 3\n",
    "conjunto2.discard(1) # 4, 5"
   ]
  },
  {
   "cell_type": "markdown",
   "metadata": {},
   "source": [
    "# Dict"
   ]
  },
  {
   "cell_type": "code",
   "execution_count": null,
   "metadata": {},
   "outputs": [],
   "source": [
    "dicionario = {\n",
    "    'chave': 'valor',\n",
    "    'chave2': ['valor1', 'valor2']\n",
    "}\n",
    "\n",
    "pessoa = {\n",
    "    'nome': 'Davies',\n",
    "    'idade': 23,\n",
    "    'atividades': {\n",
    "        'natação': 'quarta',\n",
    "        'futsal': 'quinta',\n",
    "        'Trading': 'Todos os dias',\n",
    "        'Estudos': 'Todos os dias'\n",
    "    }\n",
    "}\n",
    "\n",
    "#nome\n",
    "print(\n",
    "    pessoa['nome']\n",
    ")\n",
    "\n",
    "#dia do futsal ?\n",
    "print(\n",
    "    pessoa['atividades']['futsal']\n",
    ")"
   ]
  },
  {
   "cell_type": "markdown",
   "metadata": {},
   "source": [
    "# Tuplas"
   ]
  },
  {
   "cell_type": "code",
   "execution_count": null,
   "metadata": {},
   "outputs": [],
   "source": [
    "minha_tupla = ('Davies', 23, 0, 'tristeza', 'b.o')\n",
    "#tuplas são imutáveis mas não são inuteis, pois são mais leves que listas e podemos empacotar/desempacotar\n",
    "\n",
    "#empacotando... só da pra usar um * por vez\n",
    "nome, idade, *coisas_que_nao_quero = minha_tupla #empacotei e coisas_q_nao_quero vira uma lista\n",
    "nome , *numeros, sentimento, problema = minha_tupla\n",
    "*tudo, bo = minha_tupla\n",
    "\n",
    "print(nome, idade)\n",
    "print(type(coisas_que_nao_quero))#list\n",
    "\n",
    "# cruzando variaveis\n",
    "nome, idade = idade, nome\n",
    "print (nome) #23\n",
    "\n",
    "def funcreturn():\n",
    "    return 1, 2, 3 # tupla - mtas coisas no python retorna tupla :D e é bem facinho de usar :D"
   ]
  },
  {
   "cell_type": "markdown",
   "metadata": {},
   "source": [
    "# Listas"
   ]
  },
  {
   "cell_type": "code",
   "execution_count": null,
   "metadata": {},
   "outputs": [],
   "source": [
    "minha_lista_aleatoria = ['lasanha', 'churrasco', 'Japa', 150, [1,2,3], 'Violão' ]\n",
    "\n",
    "print(f\"Último item da lista [-1] = {minha_lista_aleatoria[-1]}\") # Último elemento da lista\n",
    "\n",
    "i = 1\n",
    "for coisa in minha_lista_aleatoria:\n",
    "    print(f\"{i} - {coisa}\")\n",
    "    i += 1\n",
    "\n",
    "#############################################################################################\n",
    "nome = 'Davies'\n",
    "print(nome[0] + nome[-1]) #primeira e ultima letra do nome"
   ]
  },
  {
   "cell_type": "markdown",
   "metadata": {},
   "source": [
    "# List-Slice"
   ]
  },
  {
   "cell_type": "code",
   "execution_count": null,
   "metadata": {},
   "outputs": [],
   "source": [
    "minha_lista_aleatoria = ['lasanha', 'churrasco', 'Japa', 150, [1,2,3], 'Violão' ]\n",
    "\n",
    "#slice\n",
    "\n",
    "# de onde : até onde : quanto em quanto\n",
    "\n",
    "print(minha_lista_aleatoria[::2]) # lasanha, japa e lista[1,2,3]\n",
    "print(minha_lista_aleatoria[3::]) # 150, [1,2,3], violao\n",
    "print(minha_lista_aleatoria[:-3:]) # Lasanha, churrasco e japa\n",
    "\n",
    "print(minha_lista_aleatoria[::-1]) # vem do ultimo até o primeiro\n",
    "\"\"\" o -1 pode ser usado para fazer um nome ser escrito de trás para frente\"\"\"\n",
    "dtpf = 'de trás pra frente'\n",
    "print(dtpf[::-1]) # etnerf arp sárt ed"
   ]
  },
  {
   "cell_type": "markdown",
   "metadata": {},
   "source": [
    "# List-Métodos"
   ]
  },
  {
   "cell_type": "code",
   "execution_count": null,
   "metadata": {},
   "outputs": [],
   "source": [
    "lista_mercado = [] # digitar a variavel. ctrl+espaço mostra todos os métodos, brinque!\n",
    "resposta = ''\n",
    "\n",
    "while resposta != 'acabou':\n",
    "    resposta = input(\"O que vamos comprar ?\\n\")\n",
    "    lista_mercado.append(resposta) #adiciona item\n",
    "\n",
    "lista_mercado.pop() # remove ultimo item, que no caso é 'acabou' \n",
    "\n",
    "print(lista_mercado)"
   ]
  },
  {
   "cell_type": "markdown",
   "metadata": {},
   "source": [
    "# OBJETO. Help() & Dir()"
   ]
  },
  {
   "cell_type": "code",
   "execution_count": null,
   "metadata": {},
   "outputs": [],
   "source": [
    "idade_txt = '23'\n",
    "idade = 23\n",
    "\n",
    "# help explica uma função\n",
    "\"\"\"\n",
    "help(idade)\n",
    "\"\"\"\n",
    "# dir mostra funções q podem ser utilizadas com aquele dado\n",
    "\"\"\"\n",
    "dir(idade)\n",
    "\"\"\""
   ]
  },
  {
   "cell_type": "markdown",
   "metadata": {},
   "source": [
    "# Funções"
   ]
  },
  {
   "cell_type": "code",
   "execution_count": null,
   "metadata": {},
   "outputs": [],
   "source": [
    "lista1 = [7, 2, 8, 3]\n",
    "\n",
    "def media_da_lista (lista_numeros):\n",
    "    # sum = soma os valores da lista\n",
    "    return print(sum(lista_numeros) / len(lista_numeros))\n",
    "\n",
    "media_da_lista(lista1)\n",
    "\n",
    "def termo_ferias (nome, cpf, rg):\n",
    "    return print(f\"\"\"\n",
    "    Termo de Férias\n",
    "\n",
    "    Devido as circunstâncias o/a colaborador(a) {nome}, portador(a) do CPF: {cpf} e do RG: {rg}.\n",
    "    \n",
    "    Está apto a tirar 2 anos de Férias.\n",
    "\n",
    "    ass. Diretora Geral\n",
    "    \"\"\")\n",
    "\n",
    "termo_ferias('Davies de Araujo', 123456789, 9876543210)"
   ]
  },
  {
   "cell_type": "code",
   "execution_count": null,
   "metadata": {},
   "outputs": [],
   "source": [
    "\n",
    "def nome1 (argumento_posicional, *pacote_de_argumentos):\n",
    "    print(argumento_posicional, pacote_de_argumentos)\n",
    "\n",
    "nome1('pessoas', 'joaquim', 'antonho', 'Genival')\n",
    "\n",
    "def nome2 (argumento_nomeado='se nao definir aparece isso', **pacote_nomeado):\n",
    "    print(argumento_nomeado, pacote_nomeado)\n",
    "\n",
    "nome2('arg_nomeado', palavras='paz, amor, união e sei lá')"
   ]
  }
 ],
 "metadata": {
  "kernelspec": {
   "display_name": "Python 3.8.2 ('venv': venv)",
   "language": "python",
   "name": "python3"
  },
  "language_info": {
   "codemirror_mode": {
    "name": "ipython",
    "version": 3
   },
   "file_extension": ".py",
   "mimetype": "text/x-python",
   "name": "python",
   "nbconvert_exporter": "python",
   "pygments_lexer": "ipython3",
   "version": "3.8.2"
  },
  "orig_nbformat": 4,
  "vscode": {
   "interpreter": {
    "hash": "73ae350a481fd2b81e12da5f178d258fb7322dc726e3dad938780f34a0668666"
   }
  }
 },
 "nbformat": 4,
 "nbformat_minor": 2
}
