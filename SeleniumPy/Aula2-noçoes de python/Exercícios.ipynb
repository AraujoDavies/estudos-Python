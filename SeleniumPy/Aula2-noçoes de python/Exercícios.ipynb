{
 "cells": [
  {
   "cell_type": "markdown",
   "metadata": {},
   "source": [
    "1) Faça um Hello World aparecer na tela"
   ]
  },
  {
   "cell_type": "code",
   "execution_count": null,
   "metadata": {},
   "outputs": [],
   "source": [
    "print('Hello World')"
   ]
  },
  {
   "cell_type": "markdown",
   "metadata": {},
   "source": [
    "2) Faça um programa que pergunte a idade e o nome do user e exiba na tela\n",
    "\n",
    "***Bem vindo <nome>, fico feliz em saber q tem <idade> de idade***"
   ]
  },
  {
   "cell_type": "code",
   "execution_count": null,
   "metadata": {},
   "outputs": [],
   "source": [
    "nome = input('Qual é o seu nome ? ')\n",
    "idade = input('Qual é a sua idade ? ')\n",
    "\n",
    "# JEITO FEIO: print(\"Bem vindo \"+nome+\", fico feliz em saber que tem \"+idade+\" de idade\")\n",
    "# JEITO BONITO:\n",
    "print(f'Caramba {nome}... {idade} anos já ? o tempo voa!!!!')"
   ]
  },
  {
   "cell_type": "markdown",
   "metadata": {},
   "source": [
    "3) Faça um programa para uma loja de tintas. O programa deverá pedir o tamanho\n",
    "em metros quadrados da área a ser pintada. Considere que a cobertura da tinta é\n",
    "de 1 litro para cada 3 metros quadrados e que a tinta é vendida em latas de 18\n",
    "litros, que custam R$ 80,00. Informe ao usuário a quantidades de latas de tinta a\n",
    "serem compradas e o preço total."
   ]
  },
  {
   "cell_type": "code",
   "execution_count": 3,
   "metadata": {},
   "outputs": [
    {
     "name": "stdout",
     "output_type": "stream",
     "text": [
      "Você vai precisar de 1 lata que da R$80.0\n"
     ]
    }
   ],
   "source": [
    "import math\n",
    "\n",
    "area = float(input('Heyyy, vc pinta como eu pinto ?? KKKK \\n\\n\\n Falaaa pintor, qual é o tamanho da area(M²) q vamos pintar ?'))\n",
    "\n",
    "lata_litros = 18 #uma lata tem 18 litros\n",
    "lata_valor = float(80) # valor da lata\n",
    "\n",
    "total_litros = area / 3 # valor total de litros utilizados\n",
    "\n",
    "qt_latas = total_litros / lata_litros\n",
    "qt_latas = math.ceil(qt_latas) \n",
    "valor = qt_latas * lata_valor\n",
    "\n",
    "print(f'Você vai precisar de {qt_latas} lata que da R${valor}')"
   ]
  },
  {
   "cell_type": "markdown",
   "metadata": {},
   "source": [
    "4) Faça um programa que peça 2 números inteiros e um número float. Calcule e\n",
    "mostre:\n",
    "\n",
    "-> O produto do dobro do primeiro com metade do segundo.\n",
    "\n",
    "-> A soma do triplo do primeiro com o terceiro.\n",
    "\n",
    "-> O terceiro elevado ao cubo."
   ]
  },
  {
   "cell_type": "code",
   "execution_count": 9,
   "metadata": {},
   "outputs": [
    {
     "name": "stdout",
     "output_type": "stream",
     "text": [
      "25.0 \n",
      " 20.0 \n",
      " 125.00\n"
     ]
    }
   ],
   "source": [
    "i1 = int(input('Digite um valor Int:'))\n",
    "i2 = int(input('Digite um valor Int:'))\n",
    "i3 = float(input('Digite um valor Float:'))\n",
    "\n",
    "# O produto do dobro do primeiro com metade do segundo.\n",
    "r1 = (2 * i1) * (i2 / 2)\n",
    "\n",
    "# A soma do triplo do primeiro com o terceiro.\n",
    "r2 = (i1 * 3) + i3\n",
    "\n",
    "# O terceiro elevado ao cubo.\n",
    "r3 = i3 ** 3\n",
    "\n",
    "print(f'{r1} \\n {r2} \\n {\"{:.2f}\".format(r3)}')"
   ]
  },
  {
   "cell_type": "markdown",
   "metadata": {},
   "source": [
    "5) Fazer media para verificar aluno aprovado ou reprovado"
   ]
  },
  {
   "cell_type": "code",
   "execution_count": 16,
   "metadata": {},
   "outputs": [
    {
     "name": "stdout",
     "output_type": "stream",
     "text": [
      "reprovado - Sua média foi 5.666666666666667\n"
     ]
    }
   ],
   "source": [
    "p1 = float(input(\"Nota na prova 1: \"))\n",
    "p2 = float(input(\"Nota na prova 2: \"))\n",
    "p3 = float(input(\"Nota na prova 3: \"))\n",
    "\n",
    "media = (p1 + p2 + p3) / 3\n",
    "\n",
    "if media > 10 or media < 0:\n",
    "    print('Notas atribuidas não correspondem ao valor de 1 a 10')\n",
    "elif media == 10:\n",
    "    print(f'UAUUUU Parabéns!!! - Sua média foi {media}')\n",
    "elif media >= 6:\n",
    "    print(f'Aprovado - Sua média foi {\"{:.2f}\".format(media)}')\n",
    "else:\n",
    "    print(f'reprovado - Sua média foi {\"{:.2f}\".format(media)}')"
   ]
  },
  {
   "cell_type": "markdown",
   "metadata": {},
   "source": [
    "6) User input 3 preços e o software retorna o mais barato na tela"
   ]
  },
  {
   "cell_type": "code",
   "execution_count": 17,
   "metadata": {},
   "outputs": [
    {
     "name": "stdout",
     "output_type": "stream",
     "text": [
      "O produto mais barato custa R$1.0\n"
     ]
    }
   ],
   "source": [
    "p1 = float(input('Preço do primeiro produto: '))\n",
    "p2 = float(input('Preço do segundo produto: '))\n",
    "p3 = float(input('Preço do terceiro produto: '))\n",
    "\n",
    "if p1 <= p2 and p1 <= p3:\n",
    "    print(f'O produto mais barato custa R${p1}')\n",
    "elif p2 <= p3 and p2 <= p1:\n",
    "    print(f'O produto mais barato custa R${p2}')\n",
    "elif p3 <= p2 and p3 <= p1:\n",
    "    print(f'O produto mais barato custa R${p3}')\n",
    "else:\n",
    "    print('Error!')"
   ]
  },
  {
   "cell_type": "markdown",
   "metadata": {},
   "source": [
    "7) Faça um programa que responde se uma frase tem vogais, se sim quais são ?"
   ]
  },
  {
   "cell_type": "code",
   "execution_count": 19,
   "metadata": {},
   "outputs": [
    {
     "name": "stdout",
     "output_type": "stream",
     "text": [
      "A\n",
      "E\n"
     ]
    }
   ],
   "source": [
    "msg = \"aff! slc em!\"\n",
    "msg = msg.lower()\n",
    "vogais = [\"a\", \"e\", \"i\", \"o\", \"u\"]\n",
    "\n",
    "for el in msg:\n",
    "    for vogal in vogais:\n",
    "        if vogal == el:\n",
    "            print(vogal.upper())"
   ]
  },
  {
   "cell_type": "markdown",
   "metadata": {},
   "source": [
    "8) Faça um programa que receba uma data de nascimento em dias e imprima uma msg:\n",
    "\n",
    "        \"voce Nasceu dia __dia__ de __Mês__ de __ano__\""
   ]
  },
  {
   "cell_type": "code",
   "execution_count": 20,
   "metadata": {},
   "outputs": [
    {
     "name": "stdout",
     "output_type": "stream",
     "text": [
      "O cidadão nasceu dia 10 de Maio de 1998.\n"
     ]
    }
   ],
   "source": [
    "meses = ['Janeiro', 'Fevereiro', 'Março', \"Abril\", \"Maio\", \"Junho\", \"Julho\", \"Agosto\", 'Setembro', \"Outubro\", 'Novembro', \"Dezembro\"]\n",
    "\n",
    "data = input('digite a data do seu nascimento separada por barras, ex (30/12/2001): \\n')\n",
    "\n",
    "dia, mes, ano = data.split('/')\n",
    " \n",
    "if int(mes) > 0 and int(mes) < 13 and int(dia) > 0 and int(dia) < 32:\n",
    "    mestxt = meses[int(mes) - 1]\n",
    "    print(f\"O cidadão nasceu dia {dia} de {mestxt} de {ano}.\")"
   ]
  },
  {
   "cell_type": "markdown",
   "metadata": {},
   "source": [
    "9) Faça um Programa q só vai parar se valor entre 1 - 10"
   ]
  },
  {
   "cell_type": "code",
   "execution_count": 21,
   "metadata": {},
   "outputs": [
    {
     "name": "stdout",
     "output_type": "stream",
     "text": [
      "insira uma nota entre 0~10 \n",
      "\n",
      "insira uma nota entre 0~10 \n",
      "\n",
      "nota registrada!\n"
     ]
    }
   ],
   "source": [
    "resposta = -1\n",
    "\n",
    "while int(resposta) > 10 or int(resposta) < 0:\n",
    "    print ('insira uma nota entre 0~10 \\n')\n",
    "    resposta = input(\"Digite uma nota: \")\n",
    "\n",
    "print('nota registrada!')"
   ]
  },
  {
   "cell_type": "markdown",
   "metadata": {},
   "source": [
    "10) faça um programa que leia 5 numeros e informe o Maior"
   ]
  },
  {
   "cell_type": "code",
   "execution_count": 22,
   "metadata": {},
   "outputs": [
    {
     "name": "stdout",
     "output_type": "stream",
     "text": [
      "O maior número digitado foi o 5\n"
     ]
    }
   ],
   "source": [
    "n1 = int(input('Digite o primeiro valor: \\n'))\n",
    "n2 = int(input('Digite o segundo valor: \\n'))\n",
    "n3 = int(input('Digite o terceiro valor: \\n'))\n",
    "n4 = int(input('Digite o quarto valor: \\n'))\n",
    "n5 = int(input('Digite o quinto valor: \\n'))\n",
    "\n",
    "numeros = [n1, n2, n3, n4, n5]\n",
    "\n",
    "print(f\"O maior número digitado foi o {max(numeros)}\")"
   ]
  },
  {
   "cell_type": "markdown",
   "metadata": {},
   "source": [
    "11) print seu nome sempre que aparecer uma vogal"
   ]
  },
  {
   "cell_type": "code",
   "execution_count": 26,
   "metadata": {},
   "outputs": [
    {
     "name": "stdout",
     "output_type": "stream",
     "text": [
      "Davies\n",
      " \n",
      "m\n",
      "l\n",
      "k\n",
      " \n",
      "d\n",
      "h\n",
      "r\n",
      "!\n"
     ]
    }
   ],
   "source": [
    "msg = \"o mlk dhr!\"\n",
    "vogais = ['a', 'e', 'i', 'o', 'u']\n",
    "\n",
    "for letra in msg:\n",
    "    if letra in vogais:\n",
    "        print(\"Davies\")\n",
    "    else:\n",
    "        print(letra)"
   ]
  },
  {
   "cell_type": "markdown",
   "metadata": {},
   "source": [
    "12) Receba um Float e imprima a parte decimal dele na tela\n"
   ]
  },
  {
   "cell_type": "code",
   "execution_count": 28,
   "metadata": {},
   "outputs": [
    {
     "name": "stdout",
     "output_type": "stream",
     "text": [
      "10,1\n",
      "A parte decimal é 1\n"
     ]
    }
   ],
   "source": [
    "while 1 > 0 :\n",
    "    nmr = input('digite um número quebrado: ')\n",
    "\n",
    "    if '.' in nmr:\n",
    "        nmr = nmr.replace('.', ',')\n",
    "\n",
    "    if ',' in nmr:\n",
    "        print(nmr)\n",
    "        break\n",
    "    else:\n",
    "        print('por favor né amigão... digite um numero separado por ponto ou vírgula')    \n",
    "    \n",
    "inteiro, decimal = nmr.split(',')\n",
    "\n",
    "print(f\"A parte decimal é {decimal}\")"
   ]
  },
  {
   "cell_type": "markdown",
   "metadata": {},
   "source": [
    "13) Faça um programa que dada uma lista e um número inteiro, imprima a tabuada desse número"
   ]
  },
  {
   "cell_type": "code",
   "execution_count": 29,
   "metadata": {},
   "outputs": [
    {
     "name": "stdout",
     "output_type": "stream",
     "text": [
      "1 X 5.0 = 5\n",
      "2 X 5.0 = 10\n",
      "3 X 5.0 = 15\n",
      "4 X 5.0 = 20\n",
      "5 X 5.0 = 25\n",
      "6 X 5.0 = 30\n",
      "7 X 5.0 = 35\n",
      "8 X 5.0 = 40\n",
      "9 X 5.0 = 45\n",
      "10 X 5.0 = 50\n"
     ]
    }
   ],
   "source": [
    "n = input('Qual número vc deseja saber a tabuada ?  ')\n",
    "lista = [1,2,3,4,5,6,7,8,9,10]\n",
    "\n",
    "n = float(n)\n",
    "\n",
    "for valor in lista:\n",
    "    x = valor * n\n",
    "    x = str(x)\n",
    "    x = x.split('.')\n",
    "    inteiro, decimal = x\n",
    "    \n",
    "    if decimal != '0':\n",
    "        print(f'{valor} X {n} = {inteiro}.{decimal}')\n",
    "    else:\n",
    "        print(f'{valor} X {n} = {inteiro}')"
   ]
  },
  {
   "cell_type": "markdown",
   "metadata": {},
   "source": [
    "14) faça um programa que dada a entrada de uma lista ele faça o cálculo acumulativo da mesma\n",
    "    \n",
    "        \"exemplo de entrada: [1, 2, 3, 4]   -   exemplo de saída: [1, 3, 6, 10]\""
   ]
  },
  {
   "cell_type": "code",
   "execution_count": 6,
   "metadata": {},
   "outputs": [
    {
     "name": "stdout",
     "output_type": "stream",
     "text": [
      "[1, 2, 3, 4, 5]\n",
      "[1, 3, 6, 10, 15]\n"
     ]
    }
   ],
   "source": [
    "lista1= []\n",
    "lista2 = []\n",
    "ns = 1\n",
    "\n",
    "while ns != 0:\n",
    "    ns = int(input('Insira um valor na lista(0 se desejar interromper): '))\n",
    "    lista1.append(ns)\n",
    "    \n",
    "    if len(lista2) > 0:\n",
    "        lista2.append(ns + lista2[-1] )\n",
    "    else:\n",
    "        lista2.append(ns)\n",
    "\n",
    "lista1.pop()\n",
    "lista2.pop()\n",
    "\n",
    "print(lista1)\n",
    "print(lista2)"
   ]
  },
  {
   "cell_type": "markdown",
   "metadata": {},
   "source": [
    "15) Faça um programa que pegue a lista de entrada e retorne as combinações possiveis\n",
    "\n",
    "        \"ex de entrada: [1, 2, 3, 4]    -   ex de saida: [[1,2], [1,3], [1,4], [2,3], [2,4], [3,4]]\""
   ]
  },
  {
   "cell_type": "code",
   "execution_count": 7,
   "metadata": {},
   "outputs": [
    {
     "name": "stdout",
     "output_type": "stream",
     "text": [
      "Ao todo temos 6 combinações possíveis, sendo elas: \n",
      "[[1, 2], [1, 3], [1, 4], [2, 3], [2, 4], [3, 4]]\n"
     ]
    }
   ],
   "source": [
    "lista1 = []\n",
    "lista2 = []\n",
    "c = 0\n",
    "\n",
    "resposta = ''\n",
    "\n",
    "while resposta != 'ok':\n",
    "    resposta = input('digite um numero para lista: (ao finalizar[ok])   ')\n",
    "    if resposta == 'ok':\n",
    "        break\n",
    "    else:\n",
    "        lista1.append(int(resposta))\n",
    "\n",
    "for i in lista1:\n",
    "    for i2 in lista1:\n",
    "        if i != i2:\n",
    "            tmpList = [i, i2]\n",
    "            if tmpList not in lista2:\n",
    "                if tmpList[::-1] not in lista2:\n",
    "                    lista2.append(tmpList)\n",
    "    c += 1\n",
    "\n",
    "if len(lista2) > 1:\n",
    "    print(f\"Ao todo temos {len(lista2)} combinações possíveis, sendo elas: \\n{lista2}\")\n",
    "elif len(lista2) == 1:\n",
    "    print(f\"Uma combinação possível: \\n{lista2}\")\n",
    "else:\n",
    "    print('0 Combinações D:')"
   ]
  },
  {
   "cell_type": "markdown",
   "metadata": {},
   "source": [
    "16) faça um programa que com uma Função calcule a média de uma lista"
   ]
  },
  {
   "cell_type": "code",
   "execution_count": 9,
   "metadata": {},
   "outputs": [
    {
     "name": "stdout",
     "output_type": "stream",
     "text": [
      "A média é 5.0\n"
     ]
    }
   ],
   "source": [
    "# sum() and len() podem ajudar\n",
    "\n",
    "#pegando 4 valores:\n",
    "def pegando_valores():\n",
    "    i = 1\n",
    "    lista = []\n",
    "    \n",
    "    while i < 5:\n",
    "        valor = int(input(f'digite o valor {i}:  '))\n",
    "        lista.append(valor)\n",
    "        i += 1\n",
    "\n",
    "    media(lista)\n",
    "\n",
    "def media (valores):    \n",
    "    media = sum(valores) / len(valores)\n",
    "    print(f'A média é {media}')\n",
    "\n",
    "pegando_valores()"
   ]
  },
  {
   "cell_type": "markdown",
   "metadata": {},
   "source": [
    "17) Faça um programa que calcule a Mediana de uma lista"
   ]
  },
  {
   "cell_type": "code",
   "execution_count": 10,
   "metadata": {},
   "outputs": [
    {
     "name": "stdout",
     "output_type": "stream",
     "text": [
      "5.0\n"
     ]
    }
   ],
   "source": [
    "#sorted() -> pode ajudar\n",
    "i = 1\n",
    "lista = []\n",
    "while i < 5:\n",
    "    valor = int(input(f'digite o valor {i}:  '))\n",
    "    lista.append(valor)\n",
    "    i += 1\n",
    "\n",
    "ordenada = sorted(lista) # ordena a lista do menor para o maior\n",
    "\n",
    "def mediana(lista_de_valores):\n",
    "    par_ou_impar = len(lista_de_valores) % 2\n",
    "    if par_ou_impar == 0:\n",
    "        #code to executed if par\n",
    "        i = (len(lista_de_valores) // 2)\n",
    "        mediana = (lista_de_valores[i] + lista_de_valores[i-1]) / 2\n",
    "        print(mediana)\n",
    "    else: \n",
    "        #code to execute if impar\n",
    "        mediana = (len(lista_de_valores) // 2)\n",
    "        print(lista_de_valores[mediana])\n",
    "\n",
    "mediana(ordenada)"
   ]
  }
 ],
 "metadata": {
  "kernelspec": {
   "display_name": "Python 3.8.2 ('venv': venv)",
   "language": "python",
   "name": "python3"
  },
  "language_info": {
   "codemirror_mode": {
    "name": "ipython",
    "version": 3
   },
   "file_extension": ".py",
   "mimetype": "text/x-python",
   "name": "python",
   "nbconvert_exporter": "python",
   "pygments_lexer": "ipython3",
   "version": "3.8.2"
  },
  "orig_nbformat": 4,
  "vscode": {
   "interpreter": {
    "hash": "73ae350a481fd2b81e12da5f178d258fb7322dc726e3dad938780f34a0668666"
   }
  }
 },
 "nbformat": 4,
 "nbformat_minor": 2
}
